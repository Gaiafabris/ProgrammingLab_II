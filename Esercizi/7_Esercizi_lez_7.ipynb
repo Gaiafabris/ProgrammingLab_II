{
 "cells": [
  {
   "cell_type": "markdown",
   "id": "25c2e0fa",
   "metadata": {},
   "source": [
    "### Es 1\n",
    "Hai a disposizione un file `data.csv` contenente dati mensili di passeggeri con due colonne:\n",
    "\n",
    "- `date`: data in formato `YYYY-MM` (mese/anno)\n",
    "- `passengers`: numero di passeggeri per quel mese\n",
    "\n",
    "\n",
    "Costruisci un modello di **regressione polinomiale** che approssima l’andamento del numero di passeggeri nel tempo.\n",
    "\n",
    "1. Carica il dataset.\n",
    "2. Convertilo in un formato numerico utilizzando una colonna `mese_numerico` che conti i mesi a partire da gennaio 1949.\n",
    "3. Applica una regressione polinomiale (grado a tua scelta).\n",
    "4. Calcola l’RMSE tra i valori reali e quelli predetti.\n",
    "5. Visualizza i dati reali e la curva stimata con Plotly."
   ]
  },
  {
   "cell_type": "code",
   "execution_count": 29,
   "id": "27e4500b",
   "metadata": {},
   "outputs": [
    {
     "name": "stdout",
     "output_type": "stream",
     "text": [
      "RMSE: 44.45\n"
     ]
    }
   ],
   "source": [
    "import pandas as pd\n",
    "import numpy as np\n",
    "from sklearn.metrics import mean_squared_error\n",
    "import plotly.graph_objects as go\n",
    "\n",
    "# 1. Carico il dataset\n",
    "df = pd.read_csv('data.csv')\n",
    "\n",
    "# 2. Conversione\n",
    "df['date'] = pd.to_datetime(df['date'], format='%Y-%m')\n",
    "df['mese_numerico'] = (df['date'].dt.year - 1949) * 12 + (df['date'].dt.month - 1)\n",
    "df = df.dropna(subset=['passengers'])  # rimuovi eventuali NaN\n",
    "\n",
    "# 3. Regressione polinomiale (grado 2)\n",
    "x = df['mese_numerico'].values\n",
    "y = df['passengers'].values\n",
    "grado = 2\n",
    "coeffs = np.polyfit(x, y, deg=grado)\n",
    "poly = np.poly1d(coeffs)\n",
    "y_pred = poly(x)\n",
    "\n",
    "# 4. Calcolo RMSE\n",
    "rmse = np.sqrt(mean_squared_error(y, y_pred))\n",
    "print(f\"RMSE: {rmse:.2f}\")"
   ]
  },
  {
   "cell_type": "code",
   "execution_count": null,
   "id": "7a59da5a",
   "metadata": {},
   "outputs": [],
   "source": [
    "# 5. Plotly\n",
    "fig = go.Figure()\n",
    "fig.add_trace(go.Scatter(x=df['date'], y=y, mode='markers',\n",
    "                         name='Dati reali', marker=dict(color='blue')))\n",
    "fig.add_trace(go.Scatter(x=df['date'], y=y_pred, mode='lines',\n",
    "                         name='Fit polinomiale', line=dict(color='red')))\n",
    "fig.update_layout(title='Regressione polinomiale sul numero di passeggeri',\n",
    "                  xaxis_title='Data', yaxis_title='Numero di passeggeri',\n",
    "                  template='plotly_white')\n",
    "\n",
    "fig.show()"
   ]
  },
  {
   "cell_type": "markdown",
   "id": "640ee914",
   "metadata": {},
   "source": [
    "### Es2. \n",
    "Costruisci una web app con Dash che permette all’utente di scegliere il grado del polinomio per adattare un modello di regressione ai dati non lineari e vedere il risultato aggiornarsi dinamicamente.\n",
    "\n",
    "\n",
    "1. Genera 100 punti x tra -3 e 3.\n",
    "\n",
    "2. Calcola ad esempio y = x³ - x + rumore.\n",
    "\n",
    "3. Costruisci un'interfaccia Dash con:\n",
    "    - uno slider per scegliere il grado del polinomio (1–10),\n",
    "    - un grafico Plotly che mostra i dati e la curva stimata.\n",
    "\n",
    "4. Usa PolynomialFeatures + LinearRegression da scikit-learn per stimare la curva"
   ]
  },
  {
   "cell_type": "code",
   "execution_count": 21,
   "id": "02d7b7c5",
   "metadata": {},
   "outputs": [
    {
     "data": {
      "text/html": [
       "\n",
       "        <iframe\n",
       "            width=\"100%\"\n",
       "            height=\"650\"\n",
       "            src=\"http://127.0.0.1:8050/\"\n",
       "            frameborder=\"0\"\n",
       "            allowfullscreen\n",
       "            \n",
       "        ></iframe>\n",
       "        "
      ],
      "text/plain": [
       "<IPython.lib.display.IFrame at 0x7a0f02d31070>"
      ]
     },
     "metadata": {},
     "output_type": "display_data"
    }
   ],
   "source": [
    "import dash\n",
    "from dash import dcc, html\n",
    "from dash.dependencies import Input, Output\n",
    "import numpy as np\n",
    "import plotly.graph_objs as go\n",
    "from sklearn.preprocessing import PolynomialFeatures\n",
    "from sklearn.linear_model import LinearRegression\n",
    "\n",
    "# 1. Generazione dei dati\n",
    "def generate_data(n=100, noise_std=1.0, seed=0):\n",
    "    np.random.seed(seed)\n",
    "    x = np.linspace(-3, 3, n)\n",
    "    y = x**3 - x + np.random.normal(0, noise_std, size=n)\n",
    "    return x, y\n",
    "\n",
    "x, y = generate_data()\n",
    "\n",
    "# 2. Creazione app Dash\n",
    "app = dash.Dash(__name__)\n",
    "server = app.server\n",
    "\n",
    "app.layout = html.Div([\n",
    "    html.H1(\"Regressione Polinomiale Interattiva\"),\n",
    "    dcc.Slider(\n",
    "        id='degree-slider',\n",
    "        min=1,\n",
    "        max=10,\n",
    "        step=1,\n",
    "        value=3,\n",
    "        marks={i: str(i) for i in range(1, 11)},\n",
    "        tooltip={'always_visible': False, 'placement': 'bottom'}\n",
    "    ),\n",
    "    dcc.Graph(id='poly-fit-graph'),\n",
    "    html.Div(id='output-degree', style={'marginTop': 20, 'fontSize': 18})\n",
    "], style={'width': '80%', 'margin': 'auto'})\n",
    "\n",
    "# 3. Callback per aggiornare il grafico\n",
    "@app.callback(\n",
    "    [Output('poly-fit-graph', 'figure'), Output('output-degree', 'children')],\n",
    "    [Input('degree-slider', 'value')]\n",
    ")\n",
    "def update_graph(degree):\n",
    "    # Trasformazione polinomiale\n",
    "    poly = PolynomialFeatures(degree=degree, include_bias=True)\n",
    "    X_poly = poly.fit_transform(x.reshape(-1, 1))\n",
    "\n",
    "    # Regressione\n",
    "    model = LinearRegression(fit_intercept=False)\n",
    "    model.fit(X_poly, y)\n",
    "\n",
    "    # Predizione su una griglia per curva liscia\n",
    "    x_fit = np.linspace(x.min(), x.max(), 200)\n",
    "    X_fit_poly = poly.transform(x_fit.reshape(-1, 1))\n",
    "    y_fit = model.predict(X_fit_poly)\n",
    "\n",
    "    # Creazione della figura\n",
    "    trace_data = go.Scatter(x=x, y=y, mode='markers', name='Dati')\n",
    "    trace_fit = go.Scatter(x=x_fit, y=y_fit, mode='lines', name=f'Fit grado {degree}')\n",
    "\n",
    "    figure = go.Figure(data=[trace_data, trace_fit])\n",
    "    figure.update_layout(\n",
    "        title=f'Regressione Polinomiale di grado {degree}',\n",
    "        xaxis_title='x',\n",
    "        yaxis_title='y',\n",
    "        template='plotly_white'\n",
    "    )\n",
    "\n",
    "    return figure, f\"Degree: {degree}\"\n",
    "\n",
    "# 4. Avvio dell'app (aggiornato)\n",
    "if __name__ == '__main__':\n",
    "    app.run(debug=True)\n"
   ]
  }
 ],
 "metadata": {
  "kernelspec": {
   "display_name": "base",
   "language": "python",
   "name": "python3"
  },
  "language_info": {
   "codemirror_mode": {
    "name": "ipython",
    "version": 3
   },
   "file_extension": ".py",
   "mimetype": "text/x-python",
   "name": "python",
   "nbconvert_exporter": "python",
   "pygments_lexer": "ipython3",
   "version": "3.12.9"
  }
 },
 "nbformat": 4,
 "nbformat_minor": 5
}
