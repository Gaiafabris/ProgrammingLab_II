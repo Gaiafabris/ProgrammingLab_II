{
 "cells": [
  {
   "cell_type": "markdown",
   "id": "25c2e0fa",
   "metadata": {},
   "source": [
    "### Es 1\n",
    "Hai a disposizione un file `data.csv` contenente dati mensili di passeggeri con due colonne:\n",
    "\n",
    "- `date`: data in formato `YYYY-MM` (mese/anno)\n",
    "- `passengers`: numero di passeggeri per quel mese\n",
    "\n",
    "\n",
    "Costruisci un modello di **regressione polinomiale** che approssima l’andamento del numero di passeggeri nel tempo.\n",
    "\n",
    "1. Carica il dataset.\n",
    "2. Convertilo in un formato numerico utilizzando una colonna `mese_numerico` che conti i mesi a partire da gennaio 1949.\n",
    "3. Applica una regressione polinomiale (grado a tua scelta).\n",
    "4. Calcola l’RMSE tra i valori reali e quelli predetti.\n",
    "5. Visualizza i dati reali e la curva stimata con Plotly."
   ]
  },
  {
   "cell_type": "code",
   "execution_count": 24,
   "id": "f160674e",
   "metadata": {},
   "outputs": [
    {
     "name": "stdout",
     "output_type": "stream",
     "text": [
      "RMSE: 44.45\n"
     ]
    },
    {
     "name": "stderr",
     "output_type": "stream",
     "text": [
      "gio: http://127.0.0.1:46823: Operation not supported\n"
     ]
    },
    {
     "ename": "KeyboardInterrupt",
     "evalue": "",
     "output_type": "error",
     "traceback": [
      "\u001b[31m---------------------------------------------------------------------------\u001b[39m",
      "\u001b[31mKeyboardInterrupt\u001b[39m                         Traceback (most recent call last)",
      "\u001b[36mCell\u001b[39m\u001b[36m \u001b[39m\u001b[32mIn[24]\u001b[39m\u001b[32m, line 36\u001b[39m\n\u001b[32m     33\u001b[39m fig.add_trace(go.Scatter(x=df[\u001b[33m'\u001b[39m\u001b[33mdate\u001b[39m\u001b[33m'\u001b[39m], y=y_pred, mode=\u001b[33m'\u001b[39m\u001b[33mlines\u001b[39m\u001b[33m'\u001b[39m, name=\u001b[33m'\u001b[39m\u001b[33mFit polinomiale\u001b[39m\u001b[33m'\u001b[39m, line=\u001b[38;5;28mdict\u001b[39m(color=\u001b[33m'\u001b[39m\u001b[33mred\u001b[39m\u001b[33m'\u001b[39m)))\n\u001b[32m     34\u001b[39m fig.update_layout(title=\u001b[33m'\u001b[39m\u001b[33mRegressione polinomiale sul numero di passeggeri\u001b[39m\u001b[33m'\u001b[39m, xaxis_title=\u001b[33m'\u001b[39m\u001b[33mData\u001b[39m\u001b[33m'\u001b[39m, yaxis_title=\u001b[33m'\u001b[39m\u001b[33mNumero di passeggeri\u001b[39m\u001b[33m'\u001b[39m, template=\u001b[33m'\u001b[39m\u001b[33mplotly_white\u001b[39m\u001b[33m'\u001b[39m)\n\u001b[32m---> \u001b[39m\u001b[32m36\u001b[39m \u001b[43mfig\u001b[49m\u001b[43m.\u001b[49m\u001b[43mshow\u001b[49m\u001b[43m(\u001b[49m\u001b[43m)\u001b[49m\n",
      "\u001b[36mFile \u001b[39m\u001b[32m~/miniconda3/lib/python3.12/site-packages/plotly/basedatatypes.py:3420\u001b[39m, in \u001b[36mBaseFigure.show\u001b[39m\u001b[34m(self, *args, **kwargs)\u001b[39m\n\u001b[32m   3387\u001b[39m \u001b[38;5;250m\u001b[39m\u001b[33;03m\"\"\"\u001b[39;00m\n\u001b[32m   3388\u001b[39m \u001b[33;03mShow a figure using either the default renderer(s) or the renderer(s)\u001b[39;00m\n\u001b[32m   3389\u001b[39m \u001b[33;03mspecified by the renderer argument\u001b[39;00m\n\u001b[32m   (...)\u001b[39m\u001b[32m   3416\u001b[39m \u001b[33;03mNone\u001b[39;00m\n\u001b[32m   3417\u001b[39m \u001b[33;03m\"\"\"\u001b[39;00m\n\u001b[32m   3418\u001b[39m \u001b[38;5;28;01mimport\u001b[39;00m \u001b[34;01mplotly\u001b[39;00m\u001b[34;01m.\u001b[39;00m\u001b[34;01mio\u001b[39;00m \u001b[38;5;28;01mas\u001b[39;00m \u001b[34;01mpio\u001b[39;00m\n\u001b[32m-> \u001b[39m\u001b[32m3420\u001b[39m \u001b[38;5;28;01mreturn\u001b[39;00m \u001b[43mpio\u001b[49m\u001b[43m.\u001b[49m\u001b[43mshow\u001b[49m\u001b[43m(\u001b[49m\u001b[38;5;28;43mself\u001b[39;49m\u001b[43m,\u001b[49m\u001b[43m \u001b[49m\u001b[43m*\u001b[49m\u001b[43margs\u001b[49m\u001b[43m,\u001b[49m\u001b[43m \u001b[49m\u001b[43m*\u001b[49m\u001b[43m*\u001b[49m\u001b[43mkwargs\u001b[49m\u001b[43m)\u001b[49m\n",
      "\u001b[36mFile \u001b[39m\u001b[32m~/miniconda3/lib/python3.12/site-packages/plotly/io/_renderers.py:424\u001b[39m, in \u001b[36mshow\u001b[39m\u001b[34m(fig, renderer, validate, **kwargs)\u001b[39m\n\u001b[32m    421\u001b[39m     ipython_display.display(bundle, raw=\u001b[38;5;28;01mTrue\u001b[39;00m)\n\u001b[32m    423\u001b[39m \u001b[38;5;66;03m# external renderers\u001b[39;00m\n\u001b[32m--> \u001b[39m\u001b[32m424\u001b[39m \u001b[43mrenderers\u001b[49m\u001b[43m.\u001b[49m\u001b[43m_perform_external_rendering\u001b[49m\u001b[43m(\u001b[49m\u001b[43mfig_dict\u001b[49m\u001b[43m,\u001b[49m\u001b[43m \u001b[49m\u001b[43mrenderers_string\u001b[49m\u001b[43m=\u001b[49m\u001b[43mrenderer\u001b[49m\u001b[43m,\u001b[49m\u001b[43m \u001b[49m\u001b[43m*\u001b[49m\u001b[43m*\u001b[49m\u001b[43mkwargs\u001b[49m\u001b[43m)\u001b[49m\n",
      "\u001b[36mFile \u001b[39m\u001b[32m~/miniconda3/lib/python3.12/site-packages/plotly/io/_renderers.py:359\u001b[39m, in \u001b[36mRenderersConfig._perform_external_rendering\u001b[39m\u001b[34m(self, fig_dict, renderers_string, **kwargs)\u001b[39m\n\u001b[32m    356\u001b[39m     \u001b[38;5;28;01mif\u001b[39;00m \u001b[38;5;28mhasattr\u001b[39m(renderer, k):\n\u001b[32m    357\u001b[39m         \u001b[38;5;28msetattr\u001b[39m(renderer, k, v)\n\u001b[32m--> \u001b[39m\u001b[32m359\u001b[39m \u001b[43mrenderer\u001b[49m\u001b[43m.\u001b[49m\u001b[43mrender\u001b[49m\u001b[43m(\u001b[49m\u001b[43mfig_dict\u001b[49m\u001b[43m)\u001b[49m\n",
      "\u001b[36mFile \u001b[39m\u001b[32m~/miniconda3/lib/python3.12/site-packages/plotly/io/_base_renderers.py:717\u001b[39m, in \u001b[36mBrowserRenderer.render\u001b[39m\u001b[34m(self, fig_dict)\u001b[39m\n\u001b[32m    702\u001b[39m \u001b[38;5;28;01mfrom\u001b[39;00m \u001b[34;01mplotly\u001b[39;00m\u001b[34;01m.\u001b[39;00m\u001b[34;01mio\u001b[39;00m \u001b[38;5;28;01mimport\u001b[39;00m to_html\n\u001b[32m    704\u001b[39m html = to_html(\n\u001b[32m    705\u001b[39m     fig_dict,\n\u001b[32m    706\u001b[39m     config=\u001b[38;5;28mself\u001b[39m.config,\n\u001b[32m   (...)\u001b[39m\u001b[32m    715\u001b[39m     validate=\u001b[38;5;28;01mFalse\u001b[39;00m,\n\u001b[32m    716\u001b[39m )\n\u001b[32m--> \u001b[39m\u001b[32m717\u001b[39m \u001b[43mopen_html_in_browser\u001b[49m\u001b[43m(\u001b[49m\u001b[43mhtml\u001b[49m\u001b[43m,\u001b[49m\u001b[43m \u001b[49m\u001b[38;5;28;43mself\u001b[39;49m\u001b[43m.\u001b[49m\u001b[43musing\u001b[49m\u001b[43m,\u001b[49m\u001b[43m \u001b[49m\u001b[38;5;28;43mself\u001b[39;49m\u001b[43m.\u001b[49m\u001b[43mnew\u001b[49m\u001b[43m,\u001b[49m\u001b[43m \u001b[49m\u001b[38;5;28;43mself\u001b[39;49m\u001b[43m.\u001b[49m\u001b[43mautoraise\u001b[49m\u001b[43m)\u001b[49m\n",
      "\u001b[36mFile \u001b[39m\u001b[32m~/miniconda3/lib/python3.12/site-packages/plotly/io/_base_renderers.py:667\u001b[39m, in \u001b[36mopen_html_in_browser\u001b[39m\u001b[34m(html, using, new, autoraise)\u001b[39m\n\u001b[32m    662\u001b[39m server = HTTPServer((\u001b[33m\"\u001b[39m\u001b[33m127.0.0.1\u001b[39m\u001b[33m\"\u001b[39m, \u001b[32m0\u001b[39m), OneShotRequestHandler)\n\u001b[32m    663\u001b[39m browser.open(\n\u001b[32m    664\u001b[39m     \u001b[33m\"\u001b[39m\u001b[33mhttp://127.0.0.1:\u001b[39m\u001b[38;5;132;01m%s\u001b[39;00m\u001b[33m\"\u001b[39m % server.server_port, new=new, autoraise=autoraise\n\u001b[32m    665\u001b[39m )\n\u001b[32m--> \u001b[39m\u001b[32m667\u001b[39m \u001b[43mserver\u001b[49m\u001b[43m.\u001b[49m\u001b[43mhandle_request\u001b[49m\u001b[43m(\u001b[49m\u001b[43m)\u001b[49m\n",
      "\u001b[36mFile \u001b[39m\u001b[32m~/miniconda3/lib/python3.12/socketserver.py:297\u001b[39m, in \u001b[36mBaseServer.handle_request\u001b[39m\u001b[34m(self)\u001b[39m\n\u001b[32m    294\u001b[39m selector.register(\u001b[38;5;28mself\u001b[39m, selectors.EVENT_READ)\n\u001b[32m    296\u001b[39m \u001b[38;5;28;01mwhile\u001b[39;00m \u001b[38;5;28;01mTrue\u001b[39;00m:\n\u001b[32m--> \u001b[39m\u001b[32m297\u001b[39m     \u001b[38;5;28;01mif\u001b[39;00m \u001b[43mselector\u001b[49m\u001b[43m.\u001b[49m\u001b[43mselect\u001b[49m\u001b[43m(\u001b[49m\u001b[43mtimeout\u001b[49m\u001b[43m)\u001b[49m:\n\u001b[32m    298\u001b[39m         \u001b[38;5;28;01mreturn\u001b[39;00m \u001b[38;5;28mself\u001b[39m._handle_request_noblock()\n\u001b[32m    299\u001b[39m     \u001b[38;5;28;01melse\u001b[39;00m:\n",
      "\u001b[36mFile \u001b[39m\u001b[32m~/miniconda3/lib/python3.12/selectors.py:415\u001b[39m, in \u001b[36m_PollLikeSelector.select\u001b[39m\u001b[34m(self, timeout)\u001b[39m\n\u001b[32m    413\u001b[39m ready = []\n\u001b[32m    414\u001b[39m \u001b[38;5;28;01mtry\u001b[39;00m:\n\u001b[32m--> \u001b[39m\u001b[32m415\u001b[39m     fd_event_list = \u001b[38;5;28;43mself\u001b[39;49m\u001b[43m.\u001b[49m\u001b[43m_selector\u001b[49m\u001b[43m.\u001b[49m\u001b[43mpoll\u001b[49m\u001b[43m(\u001b[49m\u001b[43mtimeout\u001b[49m\u001b[43m)\u001b[49m\n\u001b[32m    416\u001b[39m \u001b[38;5;28;01mexcept\u001b[39;00m \u001b[38;5;167;01mInterruptedError\u001b[39;00m:\n\u001b[32m    417\u001b[39m     \u001b[38;5;28;01mreturn\u001b[39;00m ready\n",
      "\u001b[31mKeyboardInterrupt\u001b[39m: "
     ]
    }
   ],
   "source": [
    "import pandas as pd\n",
    "import numpy as np\n",
    "from sklearn.metrics import mean_squared_error\n",
    "import plotly.graph_objects as go\n",
    "import plotly.io as pio\n",
    "\n",
    "# Forza l'apertura nel browser\n",
    "pio.renderers.default = \"browser\"\n",
    "\n",
    "# 1. Carico il dataset\n",
    "df = pd.read_csv('data.csv')\n",
    "\n",
    "# 2. Conversione\n",
    "df['date'] = pd.to_datetime(df['date'], format='%Y-%m')\n",
    "df['mese_numerico'] = (df['date'].dt.year - 1949) * 12 + (df['date'].dt.month - 1)\n",
    "df = df.dropna(subset=['passengers'])  # rimuovi eventuali NaN\n",
    "\n",
    "# 3. Regressione polinomiale (grado 2)\n",
    "x = df['mese_numerico'].values\n",
    "y = df['passengers'].values\n",
    "grado = 2\n",
    "coeffs = np.polyfit(x, y, deg=grado)\n",
    "poly = np.poly1d(coeffs)\n",
    "y_pred = poly(x)\n",
    "\n",
    "# 4. Calcolo RMSE\n",
    "rmse = np.sqrt(mean_squared_error(y, y_pred))\n",
    "print(f\"RMSE: {rmse:.2f}\")\n",
    "\n",
    "# 5. Plotly\n",
    "fig = go.Figure()\n",
    "fig.add_trace(go.Scatter(x=df['date'], y=y, mode='markers', name='Dati reali', marker=dict(color='blue')))\n",
    "fig.add_trace(go.Scatter(x=df['date'], y=y_pred, mode='lines', name='Fit polinomiale', line=dict(color='red')))\n",
    "fig.update_layout(title='Regressione polinomiale sul numero di passeggeri', xaxis_title='Data', yaxis_title='Numero di passeggeri', template='plotly_white')\n",
    "\n",
    "fig.show()\n"
   ]
  },
  {
   "cell_type": "markdown",
   "id": "640ee914",
   "metadata": {},
   "source": [
    "### Es2. \n",
    "Costruisci una web app con Dash che permette all’utente di scegliere il grado del polinomio per adattare un modello di regressione ai dati non lineari e vedere il risultato aggiornarsi dinamicamente.\n",
    "\n",
    "\n",
    "1. Genera 100 punti x tra -3 e 3.\n",
    "\n",
    "2. Calcola ad esempio y = x³ - x + rumore.\n",
    "\n",
    "3. Costruisci un'interfaccia Dash con:\n",
    "    - uno slider per scegliere il grado del polinomio (1–10),\n",
    "    - un grafico Plotly che mostra i dati e la curva stimata.\n",
    "\n",
    "4. Usa PolynomialFeatures + LinearRegression da scikit-learn per stimare la curva"
   ]
  },
  {
   "cell_type": "code",
   "execution_count": 21,
   "id": "02d7b7c5",
   "metadata": {},
   "outputs": [
    {
     "data": {
      "text/html": [
       "\n",
       "        <iframe\n",
       "            width=\"100%\"\n",
       "            height=\"650\"\n",
       "            src=\"http://127.0.0.1:8050/\"\n",
       "            frameborder=\"0\"\n",
       "            allowfullscreen\n",
       "            \n",
       "        ></iframe>\n",
       "        "
      ],
      "text/plain": [
       "<IPython.lib.display.IFrame at 0x7a0f02d31070>"
      ]
     },
     "metadata": {},
     "output_type": "display_data"
    }
   ],
   "source": [
    "import dash\n",
    "from dash import dcc, html\n",
    "from dash.dependencies import Input, Output\n",
    "import numpy as np\n",
    "import plotly.graph_objs as go\n",
    "from sklearn.preprocessing import PolynomialFeatures\n",
    "from sklearn.linear_model import LinearRegression\n",
    "\n",
    "# 1. Generazione dei dati\n",
    "def generate_data(n=100, noise_std=1.0, seed=0):\n",
    "    np.random.seed(seed)\n",
    "    x = np.linspace(-3, 3, n)\n",
    "    y = x**3 - x + np.random.normal(0, noise_std, size=n)\n",
    "    return x, y\n",
    "\n",
    "x, y = generate_data()\n",
    "\n",
    "# 2. Creazione app Dash\n",
    "app = dash.Dash(__name__)\n",
    "server = app.server\n",
    "\n",
    "app.layout = html.Div([\n",
    "    html.H1(\"Regressione Polinomiale Interattiva\"),\n",
    "    dcc.Slider(\n",
    "        id='degree-slider',\n",
    "        min=1,\n",
    "        max=10,\n",
    "        step=1,\n",
    "        value=3,\n",
    "        marks={i: str(i) for i in range(1, 11)},\n",
    "        tooltip={'always_visible': False, 'placement': 'bottom'}\n",
    "    ),\n",
    "    dcc.Graph(id='poly-fit-graph'),\n",
    "    html.Div(id='output-degree', style={'marginTop': 20, 'fontSize': 18})\n",
    "], style={'width': '80%', 'margin': 'auto'})\n",
    "\n",
    "# 3. Callback per aggiornare il grafico\n",
    "@app.callback(\n",
    "    [Output('poly-fit-graph', 'figure'), Output('output-degree', 'children')],\n",
    "    [Input('degree-slider', 'value')]\n",
    ")\n",
    "def update_graph(degree):\n",
    "    # Trasformazione polinomiale\n",
    "    poly = PolynomialFeatures(degree=degree, include_bias=True)\n",
    "    X_poly = poly.fit_transform(x.reshape(-1, 1))\n",
    "\n",
    "    # Regressione\n",
    "    model = LinearRegression(fit_intercept=False)\n",
    "    model.fit(X_poly, y)\n",
    "\n",
    "    # Predizione su una griglia per curva liscia\n",
    "    x_fit = np.linspace(x.min(), x.max(), 200)\n",
    "    X_fit_poly = poly.transform(x_fit.reshape(-1, 1))\n",
    "    y_fit = model.predict(X_fit_poly)\n",
    "\n",
    "    # Creazione della figura\n",
    "    trace_data = go.Scatter(x=x, y=y, mode='markers', name='Dati')\n",
    "    trace_fit = go.Scatter(x=x_fit, y=y_fit, mode='lines', name=f'Fit grado {degree}')\n",
    "\n",
    "    figure = go.Figure(data=[trace_data, trace_fit])\n",
    "    figure.update_layout(\n",
    "        title=f'Regressione Polinomiale di grado {degree}',\n",
    "        xaxis_title='x',\n",
    "        yaxis_title='y',\n",
    "        template='plotly_white'\n",
    "    )\n",
    "\n",
    "    return figure, f\"Degree: {degree}\"\n",
    "\n",
    "# 4. Avvio dell'app (aggiornato)\n",
    "if __name__ == '__main__':\n",
    "    app.run(debug=True)\n"
   ]
  }
 ],
 "metadata": {
  "kernelspec": {
   "display_name": "base",
   "language": "python",
   "name": "python3"
  },
  "language_info": {
   "codemirror_mode": {
    "name": "ipython",
    "version": 3
   },
   "file_extension": ".py",
   "mimetype": "text/x-python",
   "name": "python",
   "nbconvert_exporter": "python",
   "pygments_lexer": "ipython3",
   "version": "3.12.9"
  }
 },
 "nbformat": 4,
 "nbformat_minor": 5
}
