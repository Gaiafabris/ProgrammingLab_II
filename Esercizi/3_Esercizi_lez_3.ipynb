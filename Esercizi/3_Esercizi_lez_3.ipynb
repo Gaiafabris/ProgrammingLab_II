{
 "cells": [
  {
   "cell_type": "markdown",
   "metadata": {},
   "source": [
    "### **1.Consumo di alcol per paese** \n",
    "Esegui un’**analisi esplorativa** focalizzata sul **consumo di alcol**.  \n",
    "Analizza i seguenti aspetti:\n",
    "* Visualizza i primi 10 paesi ordinati per total_litres_of_pure_alcohol (dal più alto)\n",
    "\n",
    "* Calcola la media del consumo di birra, vino, e distillati\n",
    "\n",
    "* Crea una nuova colonna alcohol_index che sia: `(beer_servings + wine_servings + spirit_servings) / 3`\n",
    "\n",
    "* Trova il paese con il valore massimo di alcohol_index\n",
    "\n",
    "* Filtra solo i paesi che consumano più di 100 birre all’anno\n",
    "\n",
    "Crea un bar chart dei 10 paesi con più consumo totale (total_litres_of_pure_alcohol)\n",
    "\n",
    "Crea un line plot con wine_servings ordinato per paese (usa sort_values)"
   ]
  },
  {
   "cell_type": "code",
   "execution_count": 33,
   "metadata": {},
   "outputs": [
    {
     "name": "stdout",
     "output_type": "stream",
     "text": [
      "primi 10 paesi con total_litres_of_pure_alcohol maggiore:\n",
      "                 country  total_litres_of_pure_alcohol\n",
      "15              Belarus                          14.4\n",
      "98            Lithuania                          12.9\n",
      "3               Andorra                          12.4\n",
      "68              Grenada                          11.9\n",
      "61               France                          11.8\n",
      "45       Czech Republic                          11.8\n",
      "141  Russian Federation                          11.5\n",
      "99           Luxembourg                          11.4\n",
      "155            Slovakia                          11.4\n",
      "81              Ireland                          11.4\n",
      "consumo medio birra: 106.16062176165804\n",
      "consumo medio vino: 49.45077720207254\n",
      "consumo medio distillati: 80.99481865284974\n",
      "nuova colonna, alcohol_index:\n",
      "        country  beer_servings  wine_servings  spirit_servings  alcohol_index\n",
      "0  Afghanistan              0              0                0       0.000000\n",
      "1      Albania             89             54              132      91.666667\n",
      "2      Algeria             25             14                0      13.000000\n",
      "3      Andorra            245            312              138     231.666667\n",
      "4       Angola            217             45               57     106.333333\n",
      "Paese con il massimo alcohol_index:\n",
      " country             Andorra\n",
      "alcohol_index    231.666667\n",
      "Name: 3, dtype: object\n",
      "paesi che consumano più di 100 birre all'anno:\n",
      "                country  beer_servings\n",
      "3              Andorra            245\n",
      "4               Angola            217\n",
      "5    Antigua & Barbuda            102\n",
      "6            Argentina            193\n",
      "8            Australia            261\n",
      "..                 ...            ...\n",
      "182     United Kingdom            219\n",
      "184                USA            249\n",
      "185            Uruguay            115\n",
      "188          Venezuela            333\n",
      "189            Vietnam            111\n",
      "\n",
      "[79 rows x 2 columns]\n"
     ]
    }
   ],
   "source": [
    "import pandas as pd\n",
    "\n",
    "df = pd.read_csv(\"https://raw.githubusercontent.com/fivethirtyeight/data/master/alcohol-consumption/drinks.csv\")\n",
    "\n",
    "top10_alcol = df.sort_values(by=\"total_litres_of_pure_alcohol\", ascending=False).head(10)\n",
    "print(\"primi 10 paesi con total_litres_of_pure_alcohol maggiore:\\n\",top10_alcol[['country', 'total_litres_of_pure_alcohol']])\n",
    "\n",
    "beer_mean = df['beer_servings'].mean()\n",
    "wine_mean = df['wine_servings'].mean()\n",
    "spirit_mean = df['spirit_servings'].mean()\n",
    "print(\"consumo medio birra:\", beer_mean)\n",
    "print(\"consumo medio vino:\", wine_mean)\n",
    "print(\"consumo medio distillati:\", spirit_mean)\n",
    "\n",
    "df['alcohol_index'] = (df['beer_servings'] + df['wine_servings'] + df['spirit_servings']) / 3\n",
    "print(\"nuova colonna, alcohol_index:\\n\",df[['country', 'beer_servings', 'wine_servings', 'spirit_servings', 'alcohol_index']].head())\n",
    "\n",
    "paese_max = df.loc[df['alcohol_index'].idxmax()]\n",
    "print(\"Paese con il massimo alcohol_index:\\n\", paese_max[['country', 'alcohol_index']])\n",
    "\n",
    "birre100 = df[df['beer_servings'] >100]\n",
    "print(\"paesi che consumano più di 100 birre all'anno:\\n\", birre100[['country', 'beer_servings']])"
   ]
  },
  {
   "cell_type": "markdown",
   "metadata": {},
   "source": [
    "### **2.Analisi offerte di lavoro** \n",
    "\n",
    "Esegui un’**analisi esplorativa** focalizzata sui **lavori nel campo dei dati in ciascun paese**.  \n",
    "Analizza i seguenti aspetti per ogni paese:\n",
    "\n",
    "* Lo **stipendio medio annuale** (`salary_year_avg`)\n",
    "* Il **numero totale di offerte di lavoro** (job count)\n",
    "* L’intervallo degli stipendi: **valore minimo e massimo** (`min` / `max`)\n",
    "\n",
    "Rappresenta graficamente lo stipendio medio (`salary_year_avg`) per `job_title_short` usando un grafico a barre orizzontali. Ordina i dati dallo stipendio più alto al più basso. Includi un titolo e le etichette per gli assi x e y."
   ]
  },
  {
   "cell_type": "code",
   "execution_count": null,
   "metadata": {},
   "outputs": [],
   "source": [
    "import pandas as pd\n",
    "from datasets import load_dataset\n",
    "\n",
    "dataset = load_dataset('lukebarousse/data_jobs')\n",
    "df = dataset['train'].to_pandas()\n",
    "\n",
    "df['job_posted_date'] = pd.to_datetime(df['job_posted_date'])"
   ]
  }
 ],
 "metadata": {
  "kernelspec": {
   "display_name": "base",
   "language": "python",
   "name": "python3"
  },
  "language_info": {
   "codemirror_mode": {
    "name": "ipython",
    "version": 3
   },
   "file_extension": ".py",
   "mimetype": "text/x-python",
   "name": "python",
   "nbconvert_exporter": "python",
   "pygments_lexer": "ipython3",
   "version": "3.12.9"
  }
 },
 "nbformat": 4,
 "nbformat_minor": 2
}
