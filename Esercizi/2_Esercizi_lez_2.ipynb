{
 "cells": [
  {
   "cell_type": "markdown",
   "metadata": {},
   "source": [
    "### **1. Indicizzazione booleana**\n",
    "\n",
    "1. Creare un nuovo vettore con tutti i numeri primi tra 0 e 20. I numeri primi compresi tra 0 e 20 sono: **2, 3, 5, 7, 11, 13, 17, 19**.\n",
    "\n",
    "2. Utilizza un test logico (ad esempio `>`, `<`, `==`, `!=`) per **selezionare tutte le voci del vettore maggiori di 10**.\n",
    "\n",
    "3. Utilizza un test logico per selezionare **tutti i numeri primi pari** dalla lista.  \n"
   ]
  },
  {
   "cell_type": "code",
   "execution_count": 2,
   "metadata": {},
   "outputs": [
    {
     "name": "stdout",
     "output_type": "stream",
     "text": [
      "[ 2  3  5  7 11 13 17 19]\n",
      "[11 13 17 19]\n",
      "[2]\n"
     ]
    }
   ],
   "source": [
    "import numpy as np\n",
    "primi = np.array([i for i in range(2,21) if all(i%j!=0 for j in range(2,i))])\n",
    "print(primi)\n",
    "primi_magg10 = primi[primi>10]\n",
    "print(primi_magg10)\n",
    "primi_pari = primi[primi%2==0]\n",
    "print(primi_pari)"
   ]
  },
  {
   "cell_type": "markdown",
   "metadata": {},
   "source": [
    "### **2.  Operazioni su array**\n",
    "Crea un array **a**, 2D (senza digitarlo esplicitamente), e genera due nuovi array **b**, contenente la sua 2ª e 4ª riga, e **c** contenente solo la 3ª.  Dividi ogni colonna dell'array a, elemento per elemento, con l'array c."
   ]
  },
  {
   "cell_type": "code",
   "execution_count": 4,
   "metadata": {},
   "outputs": [
    {
     "name": "stdout",
     "output_type": "stream",
     "text": [
      "[[0.19320772 0.79002748 0.63248515 0.4209157 ]\n",
      " [0.90365276 0.99930022 0.96288274 0.01960622]\n",
      " [0.86408517 0.31832402 0.9577405  0.63976491]\n",
      " [0.29819241 0.4702883  0.85724271 0.23169747]\n",
      " [0.23258314 0.2842922  0.41639334 0.7502242 ]]\n",
      "[[0.90365276 0.99930022 0.96288274 0.01960622]\n",
      " [0.29819241 0.4702883  0.85724271 0.23169747]]\n",
      "[0.86408517 0.31832402 0.9577405  0.63976491]\n",
      "[[0.223598   2.4818343  0.66039302 0.65792245]\n",
      " [1.0457913  3.13925481 1.00536913 0.03064598]\n",
      " [1.         1.         1.         1.        ]\n",
      " [0.34509608 1.47738866 0.89506783 0.36216033]\n",
      " [0.26916691 0.89309062 0.43476634 1.17265606]]\n"
     ]
    }
   ],
   "source": [
    "a = np.random.rand(5,4)\n",
    "print(a)\n",
    "b = a[[1, 3], :] # Seleziona la 2ª (indice 1) e la 4ª (indice 3) riga\n",
    "print(b)\n",
    "c = a[2, :] # Seleziona la 3ª (indice 2) riga\n",
    "print(c)\n",
    "d = a/c\n",
    "print(d)"
   ]
  },
  {
   "cell_type": "markdown",
   "metadata": {},
   "source": [
    "### **3. Seleziona il numero più vicino a 0.5 in un array casuale**\n",
    "Genera un array 10 x 3 con numeri casuali nell'intervallo [0,1].\n",
    "Per ogni riga, seleziona il numero più vicino a 0.5. Per farlo usa il fancy indexing."
   ]
  },
  {
   "cell_type": "code",
   "execution_count": 5,
   "metadata": {},
   "outputs": [
    {
     "name": "stdout",
     "output_type": "stream",
     "text": [
      "[[0.24399207 0.57132596 0.09943046]\n",
      " [0.91186878 0.45413532 0.06196705]\n",
      " [0.78225937 0.35892887 0.72362155]\n",
      " [0.43906211 0.2618966  0.55444704]\n",
      " [0.41160222 0.30533479 0.53384759]\n",
      " [0.15955986 0.2152676  0.83982314]\n",
      " [0.17040919 0.98958073 0.76564027]\n",
      " [0.75356439 0.25419776 0.084778  ]\n",
      " [0.31499889 0.73610342 0.11710267]\n",
      " [0.95915658 0.58294786 0.15374414]]\n",
      "[0.57132596 0.45413532 0.35892887 0.55444704 0.53384759 0.2152676\n",
      " 0.76564027 0.25419776 0.31499889 0.58294786]\n"
     ]
    }
   ],
   "source": [
    "array = np.random.rand(10,3)\n",
    "print(array)\n",
    "distanza = np.abs(array - 0.5)\n",
    "min_ind = np.argmin(distanza, axis=1)\n",
    "rows = np.arange(array.shape[0])  # [0, 1, ..., 9]\n",
    "closest_to_half = array[rows, min_ind]\n",
    "print(closest_to_half)"
   ]
  },
  {
   "cell_type": "markdown",
   "metadata": {},
   "source": [
    "### **4. Analisi della Frequenza Cardiaca con NumPy**\n",
    "\n",
    "1. **Supponiamo che i seguenti valori rappresentino la tua frequenza cardiaca** registrata dal tuo Fitbit durante la giornata:  \n",
    "   `68, 65, 77, 110, 160, 161, 162, 161, 160, 161, 162, 163, 164, 163, 162, 100, 90, 97, 72, 60, 70`  \n",
    "   Inserisci questi valori in un array NumPy.\n",
    "\n",
    "2. **Trova la frequenza cardiaca minima** registrata durante la giornata.  \n",
    "   _(Questo valore rappresenta approssimativamente la tua frequenza cardiaca a riposo, un comune indicatore di salute.)_\n",
    "\n",
    "3. **Trova la frequenza cardiaca massima** registrata durante la giornata.  \n",
    "   _(Questo valore è un'indicazione dell'intensità dell'esercizio fisico.)_\n",
    "\n",
    "4. **Calcoliamo la percentuale di letture effettuate mentre stavi facendo esercizio fisico (frequenza cardiaca sopra a 120)**:  \n",
    "   - Crea un nuovo array che contiene `True` quando la frequenza cardiaca è **superiore a 120**, e `False` quando è **inferiore o uguale a 120**.\n",
    "   - Utilizza una funzione di sintesi per calcolare la percentuale di osservazioni in cui la tua frequenza cardiaca era sopra 120.\n"
   ]
  },
  {
   "cell_type": "code",
   "execution_count": 6,
   "metadata": {},
   "outputs": [
    {
     "name": "stdout",
     "output_type": "stream",
     "text": [
      "[ 68  65  77 110 160 161 162 160 161 162 163 164 163 162 100  90  97  72\n",
      "  60  70]\n",
      "60 164\n",
      "[False False False False  True  True  True  True  True  True  True  True\n",
      "  True  True False False False False False False]\n",
      "50.0 %\n"
     ]
    }
   ],
   "source": [
    "array = np.array([68,65,77,110,160,161,162,160,161,162,163,164,163,162,100,90,97,72,60,70])\n",
    "print(array)\n",
    "\n",
    "min = np.min(array)\n",
    "max = np.max(array)\n",
    "print(min, max)\n",
    "\n",
    "esercizio = array>120 \n",
    "print(esercizio)\n",
    "\n",
    "percentuale = np.mean(esercizio)*100 #percentuale di True\n",
    "print(percentuale,\"%\")"
   ]
  },
  {
   "cell_type": "markdown",
   "metadata": {},
   "source": [
    "### **5. Manipolazione di vettori**\n",
    "\n",
    "1. Creare un vettore contenente i seguenti stipendi: **50.000, 105.250, 55.000, 89.000**.  \n",
    "Qual è il costo totale del personale (somma di tutti gli stipendi dell'azienda)?\n",
    "\n",
    "2. Supponiamo che il nostro malvagio CEO abbia deciso di darsi un aumento.  \n",
    "Modifica il vettore degli stipendi in modo che il CEO, la persona che guadagna **105.250 dollari**, riceva un aumento del **15%**.\n",
    "\n",
    "3. Il **115%** di **105.250 dollari** è **121.037,50 dollari**.  \n",
    "Questo valore è presente nel tuo array? Se no, riesci a capire il motivo?\n",
    "\n",
    "4. Ricrea il vettore e utilizza l'argomento **`dtype`** in modo che, quando il CEO riceve un aumento del **15%**, il suo stipendio finale sia esattamente **121.037,50 dollari**.\n",
    "\n",
    "5. Questo aumento ha infastidito l'impiegata con lo stipendio più basso (**50.000 dollari**), che ora pretende un aumento del **20%**.  \n",
    "Modifica il vettore per riflettere questo cambiamento.\n",
    "\n",
    "6. L'aumento dato al CEO e all'impiegata ha irritato gli altri due dipendenti, quindi ora devono ricevere un aumento del **10%**.  \n",
    "Modifica il vettore di conseguenza.\n",
    "\n",
    "7. Calcola il **costo totale del personale** dopo tutti gli aumenti.  \n",
    "Alla fine, quanto è costato all'azienda l'aumento di circa **16.000 dollari** del CEO?\n"
   ]
  },
  {
   "cell_type": "code",
   "execution_count": 7,
   "metadata": {},
   "outputs": [
    {
     "name": "stdout",
     "output_type": "stream",
     "text": [
      "stipendi azienda [ 50000 105250  55000  89000]\n",
      "costo totale stipendi: 299250\n",
      "aumento CEO [ 50000.  121037.5  55000.   89000. ]\n",
      "stipendi aggiornati [ 60000.  121037.5  60500.   97900. ]\n",
      "costo totale aggiornato: 339437.5\n",
      "costo totale modifiche stipendi: 40187.5\n"
     ]
    }
   ],
   "source": [
    "stipendi = np.array([50000,105250,55000,89000])\n",
    "print(\"stipendi azienda\",stipendi)\n",
    "totale1 = np.sum(stipendi)\n",
    "print(\"costo totale stipendi:\",totale1)\n",
    "\n",
    "stipendi = np.array([50000,105250,55000,89000], dtype=np.float64)\n",
    "stipendi[1] = stipendi[1]*1.15\n",
    "print(\"aumento CEO\",stipendi)\n",
    "\n",
    "stipendi[0] = stipendi[0]*1.20\n",
    "stipendi[2] = stipendi[2]*1.10\n",
    "stipendi[3] = stipendi[3]*1.10\n",
    "print(\"stipendi aggiornati\",stipendi)\n",
    "\n",
    "totale2 = np.sum(stipendi)\n",
    "print(\"costo totale aggiornato:\",totale2)\n",
    "costo = totale2-totale1\n",
    "print(\"costo totale modifiche stipendi:\",costo)"
   ]
  },
  {
   "cell_type": "markdown",
   "metadata": {},
   "source": [
    "### **6. Valori di Co2**\n",
    "\n",
    "1. Carica tramite numpy il file generato e salvato a lezione sulle emissioni di CO2\n",
    "\n",
    "2. Calcola quanti valori ci CO2 sono sopra la soglia di 18  tonnellate per anno ed il loro valore medio\n",
    "\n",
    "3. Calcola la frazione totale di emissione sopra la soglia (somma totale sopra la soglia/somma totale)"
   ]
  },
  {
   "cell_type": "code",
   "execution_count": 4,
   "metadata": {},
   "outputs": [
    {
     "data": {
      "text/plain": [
       "(array([16.5 , 11.77,  8.75,  8.79, 14.14, 14.93,  9.24,  5.08,  6.91,\n",
       "        12.67,  8.88,  7.03, 12.88,  5.54, 16.13,  5.93, 19.16, 15.9 ,\n",
       "         6.1 , 13.54, 13.98,  8.45, 10.94, 14.47, 16.52, 11.28, 18.97,\n",
       "        19.92,  8.33, 12.55, 11.63,  8.09, 19.44, 11.04,  5.84, 14.01,\n",
       "         9.98, 15.36, 19.54,  8.49, 17.57,  9.24, 18.  ,  9.56,  7.05,\n",
       "        13.64,  6.8 ,  5.26, 12.38, 17.26, 15.82, 17.8 , 15.64,  8.92,\n",
       "         8.88, 15.97, 10.3 , 14.96, 10.71, 11.76, 17.21, 13.53, 14.15,\n",
       "        17.69,  8.72, 10.02, 11.85, 10.11, 16.87,  9.14, 13.37, 15.54,\n",
       "        16.9 ,  7.09, 18.44, 10.09,  8.2 , 19.14, 10.85, 11.67, 16.89,\n",
       "         7.75, 10.62,  6.29,  6.58, 14.12, 13.48,  5.08,  7.22,  7.29,\n",
       "        16.43,  7.87,  7.44,  7.64, 14.22, 16.22, 14.01,  8.59, 19.39,\n",
       "        10.33]),\n",
       " 'emissioni_co2.txt')"
      ]
     },
     "execution_count": 4,
     "metadata": {},
     "output_type": "execute_result"
    }
   ],
   "source": [
    "emissioni = np.round(np.random.uniform(5, 20, 100), 2)\n",
    "output_file = \"emissioni_co2.txt\"\n",
    "np.savetxt(output_file, emissioni, fmt=\"%.2f\")\n",
    "emissioni, output_file"
   ]
  },
  {
   "cell_type": "code",
   "execution_count": 6,
   "metadata": {},
   "outputs": [
    {
     "name": "stdout",
     "output_type": "stream",
     "text": [
      "Valori di CO2 sopra la soglia di 18 tonnellate per anno:  8\n",
      "Valore medio:  19.25\n",
      "Frazione totale di emissione sopra la soglia:  0.12787936159965457\n"
     ]
    }
   ],
   "source": [
    "emissioni = np.loadtxt(output_file)\n",
    "\n",
    "print(\"Valori di CO2 sopra la soglia di 18 tonnellate per anno: \", np.sum(emissioni > 18))\n",
    "print(\"Valore medio: \", np.mean(emissioni[emissioni > 18]))\n",
    "\n",
    "somma_sopra_soglia = np.sum(emissioni[emissioni > 18])\n",
    "somma = np.sum(emissioni)\n",
    "print(\"Frazione totale di emissione sopra la soglia: \", somma_sopra_soglia/somma)"
   ]
  },
  {
   "cell_type": "markdown",
   "metadata": {},
   "source": [
    "### **7. Analisi di una matrice**\n",
    "Data la matrice survey con età, reddito e anni di istruzione\n",
    "\n",
    "survey_matrix = np.array([\n",
    "    [25, 40000, 10],\n",
    "    [32, 52000, 12],\n",
    "    [40, 63000, 14],\n",
    "    [29, 47000, 11],\n",
    "    [35, 58000, 13]\n",
    "])\n",
    "\n",
    "\n",
    "1. Seleziona dalla matrice solo gli intervistati con **almeno 12 anni di istruzione** utilizzando un test logico.\n",
    "\n",
    "2. In un'unica riga di codice, seleziona i **redditi** degli intervistati con **almeno 12 anni di istruzione**.\n",
    "\n",
    "3. In un'unica riga di codice, calcola il **reddito medio** degli intervistati con **almeno 12 anni di istruzione**.\n"
   ]
  },
  {
   "cell_type": "code",
   "execution_count": 9,
   "metadata": {},
   "outputs": [
    {
     "name": "stdout",
     "output_type": "stream",
     "text": [
      "età, reddito, anni istruzione\n",
      " [[   25 40000    10]\n",
      " [   32 52000    12]\n",
      " [   40 63000    14]\n",
      " [   29 47000    11]\n",
      " [   35 58000    13]]\n",
      "intervistati con 12 annni di istruziione\n",
      " [[   32 52000    12]\n",
      " [   40 63000    14]\n",
      " [   35 58000    13]]\n",
      "redditi intervistati con 12 anni di istruzione\n",
      " [52000 63000 58000]\n",
      "reddito medio intervistati con 12 anni di istruzione\n",
      " 57666.666666666664\n"
     ]
    }
   ],
   "source": [
    "survey_matrix = np.array([[25,40000,10], [32,52000,12], [40,63000,14], [29,47000,11], [35,58000,13]])\n",
    "print(\"età, reddito, anni istruzione\\n\",survey_matrix)\n",
    "istruzione = survey_matrix[survey_matrix[:,2] >= 12]\n",
    "print(\"intervistati con 12 annni di istruziione\\n\", istruzione)\n",
    "redditi = survey_matrix[survey_matrix[:,2] >= 12, 1]\n",
    "print(\"redditi intervistati con 12 anni di istruzione\\n\",redditi)\n",
    "reddito_medio = np.mean(redditi)\n",
    "print(\"reddito medio intervistati con 12 anni di istruzione\\n\",reddito_medio)"
   ]
  },
  {
   "cell_type": "markdown",
   "metadata": {},
   "source": [
    "### **8. Rimpiazzare gli outliers**\n",
    "\n",
    "Vediamo se possiamo ripulire alcuni dati mancanti. Immagina di essere il responsabile dei registri di un comune locale con **500 cittadini** di **55 anni e oltre**.  \n",
    "\n",
    "La città è famosa per la sua longevità e un team di ricercatori ti ha chiesto di identificare **il cittadino più anziano**.  \n",
    "\n",
    "Il problema è che, occasionalmente, nei registri si verificano errori e in quei casi viene inserita l'età **999** invece dell'età corretta.  \n",
    "\n",
    "Rimuovi i dati errati dall'array e determina l'età del cittadino più anziano.\n"
   ]
  },
  {
   "cell_type": "code",
   "execution_count": 10,
   "metadata": {},
   "outputs": [
    {
     "name": "stdout",
     "output_type": "stream",
     "text": [
      "rimozione dati errati\n",
      " [ 92. 108.  75.  63.  62.  66.  90.  98.  97.  92.  60. 107.  90.  71.\n",
      "  97.  86.  55.  55.  98.  57.  96. 104.  96.  94.  72.  98. 111.  98.\n",
      "  89.  69.  77.  92.  85. 101.  93. 100.  90. 101.  96.  98.  nan  87.\n",
      " 106.  86. 108.  55.  67.  65.  68.  59.  67.  72.  57.  79.  95.  67.\n",
      "  86.  70.  91. 111.  67.  75.  59.  88.  90.  99.  94.  65. 111. 103.\n",
      " 100.  70.  63.  65. 100. 110.  nan  70.  57.  75.  56. 104. 111.  90.\n",
      "  74. 100.  90.  86.  88.  99.  58. 103.  88. 103.  64.  96. 105.  89.\n",
      "  83.  65. 100.  62.  73. 105.  83. 105.  58.  96.  77.  74.  95. 109.\n",
      "  91. 101.  91.  nan  63. 111.  97. 108.  75.  77.  73.  58.  94.  83.\n",
      "  90.  61. 110. 107. 105.  85.  64.  66.  71. 107. 105.  72.  78.  66.\n",
      " 100. 102.  72.  nan  74.  68.  73.  72.  90.  93.  99.  55.  92.  83.\n",
      "  58.  71.  89.  75.  98.  87.  nan  78.  97.  71. 106.  83.  58.  81.\n",
      " 100.  72.  93.  70.  65.  60.  95. 107.  94.  77.  87.  90.  82.  56.\n",
      "  99. 107.  86.  56.  73.  96.  64.  69.  64.  92.  57. 104. 110.  69.\n",
      "  66.  68.  84.  89.  72.  80.  55.  75.  87.  57. 106.  69.  66.  62.\n",
      " 102.  76. 111.  nan  96.  83.  84.  61. 102.  63. 107.  63.  76.  58.\n",
      "  83.  58.  61.  71.  77.  90.  74. 100. 103.  74.  92. 102.  63.  87.\n",
      "  93.  61.  63.  86.  74.  98.  64.  nan  78.  95.  84.  81. 107.  85.\n",
      "  79.  82.  89.  65. 107.  57.  74.  77.  97.  92.  58.  96. 105.  60.\n",
      "  55.  74.  57.  80.  62.  85.  87.  62.  nan  71.  74.  70.  97.  59.\n",
      "  82.  96. 105.  70.  89. 105.  60.  70.  87.  nan  64. 108. 107. 104.\n",
      "  85.  95. 108.  74.  64.  97.  89.  88.  79.  67.  81.  92.  63.  80.\n",
      "  76.  94. 104.  67.  73.  61.  99.  96.  68.  90.  86.  79.  85. 111.\n",
      "  75.  98.  81. 111. 108. 103.  85.  72. 108. 102.  nan  64. 107. 112.\n",
      "  66.  93.  89.  78.  66.  92.  63. 101.  92.  64.  72.  56.  71.  64.\n",
      "  87.  78. 107.  85. 109.  95.  69. 111.  64.  72.  55.  66.  99.  57.\n",
      "  78.  55.  58.  90.  88.  71.  90. 103.  92.  98.  67.  97.  77.  68.\n",
      "  77.  59.  78.  69.  77.  81.  61.  99.  nan  85.  78. 104.  97.  95.\n",
      "  74.  70.  69.  83.  68.  68.  77.  60.  85.  82.  93.  66.  71.  62.\n",
      "  64. 107.  nan  65.  78.  59.  83.  67. 108.  58.  95. 106.  83.  79.\n",
      "  67.  59.  96.  90.  55.  55.  96. 109.  82.  55. 101.  58.  97.  77.\n",
      "  60.  81.  nan  81.  75. 100.  66.  65. 105.  94. 101.  56.  nan  59.\n",
      " 105.  59.  93.  56. 104.  74.  81.  62.  76.  65. 107.  60. 107.  98.\n",
      "  77.  86.  83. 104.  74.  69.  97.  80.  91.  56. 108.  87.  65.  91.\n",
      "  93.  60.  91. 110. 107.  88.  96.  70.  60.  99.  66.  91. 107.  65.\n",
      "  81. 109.  84. 106.  80.  92.  78.  84.  91.  59.]\n",
      "cittadiono più anziano: 112.0\n"
     ]
    }
   ],
   "source": [
    "ages = np.array([92, 108, 75, 63, 62, 66, 90, 98, 97, 92, 60, 107, 90, 71, 97, 86, 55, 55,\n",
    "                 98, 57, 96, 104, 96, 94, 72, 98, 111, 98, 89, 69, 77, 92, 85, 101, 93, 100,\n",
    "                 90, 101, 96, 98, 999, 87, 106, 86, 108, 55, 67, 65, 68, 59, 67, 72, 57, 79,\n",
    "                 95, 67, 86, 70, 91, 111, 67, 75, 59, 88, 90, 99, 94, 65, 111, 103, 100, 70,\n",
    "                 63, 65, 100, 110, 999, 70, 57, 75, 56, 104, 111, 90, 74, 100, 90, 86, 88, 99,\n",
    "                 58, 103, 88, 103, 64, 96, 105, 89, 83, 65, 100, 62, 73, 105, 83, 105, 58, 96,\n",
    "                 77, 74, 95, 109, 91, 101, 91, 999, 63, 111, 97, 108, 75, 77, 73, 58, 94, 83,\n",
    "                 90, 61, 110, 107, 105, 85, 64, 66, 71, 107, 105, 72, 78, 66, 100, 102, 72, 999,\n",
    "                 74, 68, 73, 72, 90, 93, 99, 55, 92, 83, 58, 71, 89, 75, 98, 87, 999, 78,\n",
    "                 97, 71, 106, 83, 58, 81, 100, 72, 93, 70, 65, 60, 95, 107, 94, 77, 87, 90,\n",
    "                 82, 56, 99, 107, 86, 56, 73, 96, 64, 69, 64, 92, 57, 104, 110, 69, 66, 68,\n",
    "                 84, 89, 72, 80, 55, 75, 87, 57, 106, 69, 66, 62, 102, 76, 111, 999, 96, 83,\n",
    "                 84, 61, 102, 63, 107, 63, 76, 58, 83, 58, 61, 71, 77, 90, 74, 100, 103, 74,\n",
    "                 92, 102, 63, 87, 93, 61, 63, 86, 74, 98, 64, 999, 78, 95, 84, 81, 107, 85,\n",
    "                 79, 82, 89, 65, 107, 57, 74, 77, 97, 92, 58, 96, 105, 60, 55, 74, 57, 80,\n",
    "                 62, 85, 87, 62, 999, 71, 74, 70, 97, 59, 82, 96, 105, 70, 89, 105, 60, 70,\n",
    "                 87, 999, 64, 108, 107, 104, 85, 95, 108, 74, 64, 97, 89, 88, 79, 67, 81, 92,\n",
    "                 63, 80, 76, 94, 104, 67, 73, 61, 99, 96, 68, 90, 86, 79, 85, 111, 75, 98,\n",
    "                 81, 111, 108, 103, 85, 72, 108, 102, 999, 64, 107, 112, 66, 93, 89, 78, 66, 92,\n",
    "                 63, 101, 92, 64, 72, 56, 71, 64, 87, 78, 107, 85, 109, 95, 69, 111, 64, 72,\n",
    "                 55, 66, 99, 57, 78, 55, 58, 90, 88, 71, 90, 103, 92, 98, 67, 97, 77, 68,\n",
    "                 77, 59, 78, 69, 77, 81, 61, 99, 999, 85, 78, 104, 97, 95, 74, 70, 69, 83,\n",
    "                 68, 68, 77, 60, 85, 82, 93, 66, 71, 62, 64, 107, 999, 65, 78, 59, 83, 67,\n",
    "                 108,  58,  95, 106,  83,  79,  67,  59,  96,  90,  55,  55,  96, 109,  82,  55, 101,  58,\n",
    "                 97, 77, 60, 81, 999, 81, 75, 100, 66, 65, 105, 94, 101, 56, 999, 59, 105, 59,\n",
    "                 93, 56, 104, 74, 81, 62, 76, 65, 107, 60, 107, 98, 77, 86, 83, 104, 74, 69,\n",
    "                 97, 80, 91, 56, 108, 87, 65, 91, 93, 60, 91, 110, 107, 88, 96, 70, 60, 99,\n",
    "                 66, 91, 107, 65, 81, 109, 84, 106, 80, 92, 78, 84, 91, 59], dtype=float)\n",
    "\n",
    "ages[ages == 999] = np.nan  # ages == 999 crea un array booleano\n",
    "print(\"rimozione dati errati\\n\",ages)\n",
    "max = np.nanmax(ages)\n",
    "print(\"cittadiono più anziano:\",max)"
   ]
  },
  {
   "cell_type": "markdown",
   "metadata": {},
   "source": [
    "### 9.**Generazione random di storie**\n",
    "\n",
    "Usando la lista qui sotto, estrai casualmente **5 parole con reinserimento** (cioè, i duplicati sono ammessi).  \n",
    "\n",
    "Successivamente, inserisci casualmente queste parole negli spazi vuoti (indicati con \"_\") nella seguente frase:\n",
    "\n",
    "*\"In epoche passate, viveva una donna saggia che era molto orgogliosa dell'antico __ che proteggeva. Quando un anziano del villaggio venne a chiederle consiglio su come garantire al meglio un raccolto abbondante e le offrì il __ come dono, i suoi occhi si spalancarono e lei esclamò una sola parola, \"__\".  \n",
    "Radunò il villaggio e, per i successivi 100 giorni, su sua richiesta, gli abitanti cercarono nella foresta un __.  \n",
    "Nel 101° giorno, il bambino più giovane del villaggio trovò ciò che stavano cercando e tutti corsero dalla donna saggia per donarglielo.  \n",
    "Con un sorriso da un orecchio all’altro, e cantando canti di festa, la donna saggia guardò i suoi compaesani e disse: \"Ora è giunto il tempo del banchetto - nessuno rimarrà mai più senza _!\" Ci fu grande gioia e celebrazione.\"*\n"
   ]
  },
  {
   "cell_type": "code",
   "execution_count": 7,
   "metadata": {},
   "outputs": [],
   "source": [
    "lista_parole = [\n",
    "    'INSEDIAMENTO', 'SEPARAZIONE', 'DIFFERENZA', 'APPLICAZIONE', 'ATTEGGIAMENTO', 'VERDURA', 'IMPERO', 'RICEVIMENTO',\n",
    "    'IGNORANZA', 'BIOGRAFIA', 'VISIONE', 'AGENTE DI POLIZIA', 'PROVA', 'PRESTAZIONE', 'PRESENTAZIONE', 'PARENTE',\n",
    "    'GIUSTIFICAZIONE', 'FILOSOFIA', 'DIREZIONE', 'BENEFICIARIO', 'BATTERIA', 'CERIMONIA', 'AGONIA', 'RECUPERO',\n",
    "    'ALFABETIZZAZIONE', 'CONSEGNA', 'SERBATOIO', 'VOLONTARIO', 'DEPOSITO', 'BIRILLO DA BOWLING', 'NEMICO', 'ANNUNCIO',\n",
    "    'CARAMELLA ZUCCHERATA', 'FULMINE', 'PALLONCINO', 'COPERTA', 'SCOPERTA', 'PENALITÀ', 'GENERALE', 'ALPACA',\n",
    "    'VANTAGGIO', 'HOT DOG', 'ABITO', 'MATEMATICA', 'VARIANTE'\n",
    "]\n"
   ]
  },
  {
   "cell_type": "markdown",
   "metadata": {},
   "source": [
    "Esempio di output\n",
    "\n",
    "\n",
    "\"In epoche passate, viveva una donna saggia che era molto orgogliosa dell'antico APPLICAZIONE che proteggeva. \n",
    "Quando un anziano del villaggio venne a chiederle consiglio su come garantire al meglio un raccolto abbondante \n",
    "e le offrì il DEPOSITO come dono, i suoi occhi si spalancarono e lei esclamò una sola parola, \"PRESTAZIONE\".  \n",
    "\n",
    "Radunò il villaggio e, per i successivi 100 giorni, su sua richiesta, gli abitanti cercarono nella foresta un BIRILLO DA BOWLING. \n",
    "Nel 101° giorno, il bambino più giovane del villaggio trovò ciò che stavano cercando e tutti corsero dalla donna saggia per donarglielo. \n",
    "Con un sorriso da un orecchio all’altro, e cantando canti di festa, la donna saggia guardò i suoi compaesani e disse: \n",
    "\"Ora è giunto il tempo del banchetto - nessuno rimarrà mai più senza GIUSTIFICAZIONE!\"  \n",
    "\n",
    "Ci fu grande gioia e celebrazione.\""
   ]
  },
  {
   "cell_type": "code",
   "execution_count": 8,
   "metadata": {},
   "outputs": [
    {
     "name": "stdout",
     "output_type": "stream",
     "text": [
      "\n",
      "In epoche passate, viveva una donna saggia che era molto orgogliosa dell'antico BIOGRAFIA che proteggeva.\n",
      "Quando un anziano del villaggio venne a chiederle consiglio su come garantire al meglio un raccolto abbondante e le offrì il PROVA come dono, i suoi occhi si spalancarono e lei esclamò una sola parola, \"PROVA\".\n",
      "Radunò il villaggio e, per i successivi 100 giorni, su sua richiesta, gli abitanti cercarono nella foresta un AGENTE DI POLIZIA.\n",
      "Nel 101° giorno, il bambino più giovane del villaggio trovò ciò che stavano cercando e tutti corsero dalla donna saggia per donarglielo.\n",
      "Con un sorriso da un orecchio all’altro, e cantando canti di festa, la donna saggia guardò i suoi compaesani e disse: \"Ora è giunto il tempo del banchetto - nessuno rimarrà mai più senza VANTAGGIO!\"\n",
      "\n",
      "Ci fu grande gioia e celebrazione.\n",
      "\n"
     ]
    }
   ],
   "source": [
    "import random\n",
    "\n",
    "parole_estratte = [random.choice(lista_parole) for _ in range(5)]\n",
    "\n",
    "frase = f\"\"\"\n",
    "In epoche passate, viveva una donna saggia che era molto orgogliosa dell'antico {parole_estratte[0]} che proteggeva.\n",
    "Quando un anziano del villaggio venne a chiederle consiglio su come garantire al meglio un raccolto abbondante e le offrì il {parole_estratte[1]} come dono, i suoi occhi si spalancarono e lei esclamò una sola parola, \"{parole_estratte[2]}\".\n",
    "Radunò il villaggio e, per i successivi 100 giorni, su sua richiesta, gli abitanti cercarono nella foresta un {parole_estratte[3]}.\n",
    "Nel 101° giorno, il bambino più giovane del villaggio trovò ciò che stavano cercando e tutti corsero dalla donna saggia per donarglielo.\n",
    "Con un sorriso da un orecchio all’altro, e cantando canti di festa, la donna saggia guardò i suoi compaesani e disse: \"Ora è giunto il tempo del banchetto - nessuno rimarrà mai più senza {parole_estratte[4]}!\"\n",
    "\n",
    "Ci fu grande gioia e celebrazione.\n",
    "\"\"\"\n",
    "print(frase)"
   ]
  }
 ],
 "metadata": {
  "kernelspec": {
   "display_name": "base",
   "language": "python",
   "name": "python3"
  },
  "language_info": {
   "codemirror_mode": {
    "name": "ipython",
    "version": 3
   },
   "file_extension": ".py",
   "mimetype": "text/x-python",
   "name": "python",
   "nbconvert_exporter": "python",
   "pygments_lexer": "ipython3",
   "version": "3.12.9"
  }
 },
 "nbformat": 4,
 "nbformat_minor": 2
}
